{
 "cells": [
  {
   "cell_type": "code",
   "execution_count": 21,
   "id": "47ecde26-ace6-4210-9b7e-3f36e94c4a7a",
   "metadata": {
    "tags": []
   },
   "outputs": [],
   "source": [
    "# imports\n",
    "import time\n",
    "tic = time.time()\n",
    "\n",
    "import intake\n",
    "import numpy as np\n",
    "import matplotlib.pyplot as plt\n",
    "import xarray as xr\n",
    "\n",
    "from xmip.preprocessing import combined_preprocessing\n",
    "from xarrayutils.plotting import shaded_line_plot\n",
    "\n",
    "from datatree import DataTree\n",
    "from xmip.postprocessing import _parse_metric\n",
    "\n",
    "%matplotlib inline"
   ]
  },
  {
   "cell_type": "code",
   "execution_count": 2,
   "id": "970137ef-999e-4bdb-b063-e7e1ef42fb2c",
   "metadata": {
    "tags": []
   },
   "outputs": [
    {
     "name": "stdout",
     "output_type": "stream",
     "text": [
      "\n",
      "--> The keys in the returned dictionary of datasets are constructed as follows:\n",
      "\t'source_id/experiment_id'\n"
     ]
    },
    {
     "data": {
      "text/html": [
       "\n",
       "<style>\n",
       "    /* Turns off some styling */\n",
       "    progress {\n",
       "        /* gets rid of default border in Firefox and Opera. */\n",
       "        border: none;\n",
       "        /* Needs to be in here for Safari polyfill so background images work as expected. */\n",
       "        background-size: auto;\n",
       "    }\n",
       "    progress:not([value]), progress:not([value])::-webkit-progress-bar {\n",
       "        background: repeating-linear-gradient(45deg, #7e7e7e, #7e7e7e 10px, #5c5c5c 10px, #5c5c5c 20px);\n",
       "    }\n",
       "    .progress-bar-interrupted, .progress-bar-interrupted::-webkit-progress-bar {\n",
       "        background: #F44336;\n",
       "    }\n",
       "</style>\n"
      ],
      "text/plain": [
       "<IPython.core.display.HTML object>"
      ]
     },
     "metadata": {},
     "output_type": "display_data"
    },
    {
     "data": {
      "text/html": [
       "\n",
       "    <div>\n",
       "      <progress value='3' class='' max='3' style='width:300px; height:20px; vertical-align: middle;'></progress>\n",
       "      100.00% [3/3 00:02&lt;00:00]\n",
       "    </div>\n",
       "    "
      ],
      "text/plain": [
       "<IPython.core.display.HTML object>"
      ]
     },
     "metadata": {},
     "output_type": "display_data"
    }
   ],
   "source": [
    "# open an intake catalog containing the Pangeo CMIP cloud data\n",
    "col = intake.open_esm_datastore(\n",
    "    \"https://storage.googleapis.com/cmip6/pangeo-cmip6.json\"\n",
    ")\n",
    "\n",
    "# pick the experiments you require\n",
    "experiment_ids = [\"historical\", \"ssp126\", \"ssp585\"] #historical, future low-emissions and high-emissions scenarios\n",
    "\n",
    "# from the full `col` object, create a subset using facet search\n",
    "cat = col.search(\n",
    "    source_id=\"TaiESM1\",\n",
    "    variable_id=\"tos\",\n",
    "    member_id=\"r1i1p1f1\",\n",
    "    table_id=\"Omon\",\n",
    "    grid_label=\"gn\",\n",
    "    experiment_id=experiment_ids,\n",
    "    require_all_on=[\n",
    "        \"source_id\"\n",
    "    ],  # make sure that we only get models which have all of the above experiments\n",
    ")\n",
    "\n",
    "# convert the sub-catalog into a datatree object, by opening each dataset into an xarray.Dataset (without loading the data)\n",
    "kwargs = dict(\n",
    "    preprocess=combined_preprocessing,  # apply xMIP fixes to each dataset\n",
    "    xarray_open_kwargs=dict(\n",
    "        use_cftime=True\n",
    "    ),  # ensure all datasets use the same time index\n",
    "    storage_options={\n",
    "        \"token\": \"anon\"\n",
    "    },  # anonymous/public authentication to google cloud storage\n",
    ")\n",
    "\n",
    "cat.esmcat.aggregation_control.groupby_attrs = [\"source_id\", \"experiment_id\"]\n",
    "dt = cat.to_datatree(**kwargs)"
   ]
  },
  {
   "cell_type": "code",
   "execution_count": 4,
   "id": "62e3c9f9-d5f0-4777-9497-0786f9a7106b",
   "metadata": {
    "tags": []
   },
   "outputs": [
    {
     "name": "stdout",
     "output_type": "stream",
     "text": [
      "\n",
      "--> The keys in the returned dictionary of datasets are constructed as follows:\n",
      "\t'source_id/experiment_id'\n"
     ]
    },
    {
     "data": {
      "text/html": [
       "\n",
       "<style>\n",
       "    /* Turns off some styling */\n",
       "    progress {\n",
       "        /* gets rid of default border in Firefox and Opera. */\n",
       "        border: none;\n",
       "        /* Needs to be in here for Safari polyfill so background images work as expected. */\n",
       "        background-size: auto;\n",
       "    }\n",
       "    progress:not([value]), progress:not([value])::-webkit-progress-bar {\n",
       "        background: repeating-linear-gradient(45deg, #7e7e7e, #7e7e7e 10px, #5c5c5c 10px, #5c5c5c 20px);\n",
       "    }\n",
       "    .progress-bar-interrupted, .progress-bar-interrupted::-webkit-progress-bar {\n",
       "        background: #F44336;\n",
       "    }\n",
       "</style>\n"
      ],
      "text/plain": [
       "<IPython.core.display.HTML object>"
      ]
     },
     "metadata": {},
     "output_type": "display_data"
    },
    {
     "data": {
      "text/html": [
       "\n",
       "    <div>\n",
       "      <progress value='1' class='' max='1' style='width:300px; height:20px; vertical-align: middle;'></progress>\n",
       "      100.00% [1/1 00:00&lt;00:00]\n",
       "    </div>\n",
       "    "
      ],
      "text/plain": [
       "<IPython.core.display.HTML object>"
      ]
     },
     "metadata": {},
     "output_type": "display_data"
    }
   ],
   "source": [
    "cat_area = col.search(\n",
    "    source_id=\"TaiESM1\",\n",
    "    # Add the appropriate variable_id\n",
    "    variable_id=\"areacello\",\n",
    "    member_id=\"r1i1p1f1\",\n",
    "    # Add the appropriate table_id\n",
    "    table_id=\"Ofx\",\n",
    "    grid_label=\"gn\",\n",
    "    # Add the appropriate experiment_id\n",
    "    experiment_id=[\"historical\"],\n",
    "    require_all_on=[\"source_id\"],\n",
    ")\n",
    "cat_area.esmcat.aggregation_control.groupby_attrs = [\"source_id\", \"experiment_id\"]\n",
    "dt_area = cat_area.to_datatree(**kwargs)\n",
    "\n",
    "dt_with_area = DataTree()\n",
    "\n",
    "for model, subtree in dt.items():\n",
    "    metric = dt_area[model][\"historical\"].ds[\"areacello\"]\n",
    "    dt_with_area[model] = subtree.map_over_subtree(_parse_metric, metric)"
   ]
  },
  {
   "cell_type": "code",
   "execution_count": 23,
   "id": "a62721e3-f264-489d-a381-7bcb49fc8d55",
   "metadata": {
    "tags": []
   },
   "outputs": [
    {
     "data": {
      "text/plain": [
       "<matplotlib.legend.Legend at 0x7f8cc7e71b40>"
      ]
     },
     "execution_count": 23,
     "metadata": {},
     "output_type": "execute_result"
    },
    {
     "data": {
      "image/png": "[encoded data removed]",
      "text/plain": [
       "<Figure size 640x480 with 1 Axes>"
      ]
     },
     "metadata": {},
     "output_type": "display_data"
    }
   ],
   "source": [
    "def global_mean(ds: xr.Dataset) -> xr.Dataset:\n",
    "    \"\"\"Global average, weighted by the cell area\"\"\"\n",
    "    return ds.weighted(ds.areacello.fillna(0)).mean([\"x\", \"y\"], keep_attrs=True)\n",
    "\n",
    "\n",
    "# average every dataset in the tree globally\n",
    "dt_gm = dt_with_area.map_over_subtree(global_mean)\n",
    "fig, ax = plt.subplots()\n",
    "for experiment in [\"historical\", \"ssp126\", \"ssp585\"]:\n",
    "    da = dt_gm[\"TaiESM1\"][experiment].ds.tos\n",
    "    da.plot(label=experiment, ax=ax)\n",
    "ax.set_title(\"Global Mean SST from TaiESM1\")\n",
    "ax.set_ylabel(\"Global Mean SST [$^\\circ$C]\")\n",
    "ax.set_xlabel(\"Year\")\n",
    "ax.legend() "
   ]
  },
  {
   "cell_type": "code",
   "execution_count": null,
   "id": "bdae26c5-e4d7-48bd-8d4a-6f60ed95bff6",
   "metadata": {},
   "outputs": [],
   "source": []
  }
 ],
 "metadata": {
  "kernelspec": {
   "display_name": "Python 3 (ipykernel)",
   "language": "python",
   "name": "python3"
  },
  "language_info": {
   "codemirror_mode": {
    "name": "ipython",
    "version": 3
   },
   "file_extension": ".py",
   "mimetype": "text/x-python",
   "name": "python",
   "nbconvert_exporter": "python",
   "pygments_lexer": "ipython3",
   "version": "3.11.7"
  }
 },
 "nbformat": 4,
 "nbformat_minor": 5
}
